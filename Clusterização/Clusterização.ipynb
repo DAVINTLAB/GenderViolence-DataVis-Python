{
 "cells": [
  {
   "cell_type": "markdown",
   "metadata": {},
   "source": [
    "# Sobre clusterização\n",
    "\n",
    "1) https://medium.com/turing-talks/clustering-conceitos-básicos-principais-algoritmos-e-aplicação-ace572a062a9\n",
    "\n",
    "2) https://blog.somostera.com/data-science/clusterização-de-dados\n",
    "\n",
    "3) https://www.sciencedirect.com/science/article/pii/S0167865509002323"
   ]
  },
  {
   "cell_type": "code",
   "execution_count": 11,
   "metadata": {},
   "outputs": [],
   "source": [
    "import pandas as pd\n",
    "import category_encoders as ce\n",
    "import plotly.express as px\n",
    "import matplotlib.pyplot as plt\n",
    "import seaborn as sns\n",
    "import dash\n",
    "from dash import dcc, html\n",
    "from dash.dependencies import Input, Output\n",
    "from sklearn.cluster import KMeans\n",
    "from kmodes.kmodes import KModes"
   ]
  },
  {
   "cell_type": "markdown",
   "metadata": {},
   "source": [
    "# Pré-processamento"
   ]
  },
  {
   "cell_type": "markdown",
   "metadata": {},
   "source": [
    "Pré-processamento. Pode envolver:\n",
    "\n",
    "1) Remoção de outliers: outliers são observações que se desviam significativamente das outras observações no conjunto de dados (seja por ser um valor muito maior ou menor que os demais) e podem distorcer os resultados da clusterização, puxando o centro de um cluster em sua direção ou criando clusters adicionais desnecessários;\n",
    "\n",
    "2) Normalização de variáveis: a normalização (ou padronização) das variáveis é essencial, especialmente quando as variáveis estão em diferentes escalas ou unidades;\n",
    "\n",
    "3) Codificação de categorias: para métodos de clusterização que operam em espaço métrico/númerico, como o K-Means, é necessário converter variáveis categóricas em formatos numéricos através de técnicas como codificação One-Hot ou Binary Encoding;\n",
    "\n",
    "4) Tratamento de valores nulos: valores nulos podem distorcer a análise de clusterização se não forem adequadamente tratados. Estratégias comuns para lidar com valores nulos incluem imputação, onde valores nulos são substituídos por um valor estimado com base em outras observações (média, mediana ou um valor predito por um modelo), e exclusão, onde linhas ou colunas com valores nulos são removidas;\n",
    "\n",
    "5) Redução de Dimensionalidade: em conjuntos de dados com alta dimensionalidade (muitas colunas), técnicas de redução de dimensionalidade, como PCA (Análise de Componentes Principais) ou t-SNE, podem ser aplicadas para simplificar os dados sem perder informações essenciais. Isso pode melhorar a eficiência computacional e a qualidade dos clusters, facilitando a identificação de estruturas nos dados;\n"
   ]
  },
  {
   "cell_type": "code",
   "execution_count": 12,
   "metadata": {},
   "outputs": [],
   "source": [
    "def FiltraTabela(df, nullValuesPercentAcceptable, uniqueValuesCountAcceptable): \n",
    "    # Define um novo dataset com as colunas que possuem um número de valores nulos e occorrências únicas aceitáveis para a codificação,\n",
    "    # diminuido assim a dimensionalidade\n",
    "    selectedColumns = []\n",
    "\n",
    "    # Padronização de valores ausentes. Define os valores em ausentes como \"NULO\"\n",
    "    df = df.applymap(lambda x: \"NULO\" if pd.isnull(x) else x)\n",
    "\n",
    "    # Para cada coluna do dataset\n",
    "    for column in df:\n",
    "        # Cálculo da porcentagem de valores nulos\n",
    "        nullValuesPercent = (df[column].value_counts().get('NULO', 0) * 100) / len(df)\n",
    "\n",
    "        # Cálculo do número de ocorrências únicas\n",
    "        uniqueValuesCount = df[column].nunique()\n",
    "\n",
    "        # Prints para verificação\n",
    "        print(f'Coluna: {column}')\n",
    "        print(f'Porcentagem de Valores Nulos: {nullValuesPercent:.2f}%')\n",
    "        print(f'Número de Valores Únicos: {uniqueValuesCount}')\n",
    "\n",
    "        # Condição para compôr o novo dataset\n",
    "        if nullValuesPercent < nullValuesPercentAcceptable and uniqueValuesCount < uniqueValuesCountAcceptable:\n",
    "            selectedColumns.append(column)\n",
    "            print(\"Inserido\\n\")\n",
    "        else:\n",
    "            print(\"Não Inserido\\n\")\n",
    "\n",
    "    # Cria uma cópia com as colunas definidas anteriormente.\n",
    "    dfFiltered = df[selectedColumns].copy()\n",
    "\n",
    "    # Define todas as colunas do dataset como string\n",
    "    dfFiltered = dfFiltered.astype(str)\n",
    "\n",
    "    return dfFiltered\n",
    "\n",
    "def RemoveLinhasComNulos(df):\n",
    "    # Remove as linhas com valores nulos\n",
    "    df.dropna(inplace=True)\n",
    "\n",
    "    # Define todas as colunas do dataset como string\n",
    "    df = df.astype(str)\n",
    "\n",
    "    return df\n",
    "\n"
   ]
  },
  {
   "cell_type": "code",
   "execution_count": null,
   "metadata": {},
   "outputs": [],
   "source": [
    "# Leitura do arquivo\n",
    "nomeDoArquivo = \"2014 a 2018-1\"\n",
    "data = pd.read_excel(nomeDoArquivo + \".xlsx\")\n",
    "backup = data.copy()\n",
    "\n",
    "# Print dos nomes das colunas\n",
    "data.columns"
   ]
  },
  {
   "cell_type": "code",
   "execution_count": null,
   "metadata": {},
   "outputs": [],
   "source": [
    "# Visualização dos valores nulos com um heatmap\n",
    "plt.figure(figsize=(20, 10)) \n",
    "sns.heatmap(data.isnull(), cbar=False, cmap='viridis')\n",
    "plt.show()\n",
    "\n",
    "numeroDeLinhasComNulo = data.isnull().any(axis=1).sum()\n",
    "numeroDeLinhasSemNulo = data.notnull().all(axis=1).sum()\n",
    "totalDeLinhas = len(data)\n",
    "print(f\"Linhas sem valores nulos: {numeroDeLinhasSemNulo}/{totalDeLinhas} ({numeroDeLinhasSemNulo/totalDeLinhas:.2%})\")"
   ]
  },
  {
   "cell_type": "markdown",
   "metadata": {},
   "source": [
    "# Escolha do Número de Clusters e Algoritmos de Inicialização \n",
    "\n",
    "A determinação do número adequado de clusters é fundamental para a preparação de modelos, principalmente para aqueles que utilizam métodos de clusterização que exigem a definição de uma quantidade préviamente, como o K-Modes e K-Means. \n",
    "\n",
    "O número de clusters pode, em alguns casos, ser facilmente determinado a partir do contexto de onde foram tirados os dados. Para dados de vendas de uma loja, por exemplo, o número de clusters pode ser referente ao número de produtos que a loja vende, de maneira que cada cluster representa o perfil do cliente que o consome. \n",
    "\n",
    "Se não, métodos como o Elbow Method, o Silhouette Score ou o Davies-Bouldin Index podem ajudar a estimar um número ótimo de clusters baseando-se na coesão interna dos clusters e na separação entre eles.\n",
    "\n",
    "Aqui será usado o Elbow Method para encontrar um K (número de clusters) ótimo para nosso data set, com diferentes algoritmos de escolha para os valores iniciais de referência (modes) de cada cluster.\n",
    "\n",
    "Todas as execuções serão feitas 5 vezes (n_init = 5) para garantir que não hajam tendências na geração de números aleatórios."
   ]
  },
  {
   "cell_type": "markdown",
   "metadata": {},
   "source": [
    "# Clusterização com K-Modes\n",
    "\n",
    "1) https://pypi.org/project/kmodes/ \n",
    "\n",
    "2) https://harikabonthu96.medium.com/kmodes-clustering-2286a9bfdcfb\n",
    "\n",
    "3) https://awari.com.br/aprenda-a-utilizar-o-k-modes-com-python-para-analise-de-dados/?utm_source=blog&utm_campaign=projeto+blog&utm_medium=Aprenda%20a%20Utilizar%20o%20K-Modes%20com%20Python%20para%20Análise%20de%20Dados\n",
    "\n",
    "4) https://link.springer.com/article/10.1007/s00357-001-0004-3"
   ]
  },
  {
   "cell_type": "markdown",
   "metadata": {},
   "source": [
    "## Teste 1\n",
    "\n",
    "Clusterização usando todas as colunas com poucos valores nulos, removendo as linhas com pelo menos um nulo."
   ]
  },
  {
   "cell_type": "code",
   "execution_count": 15,
   "metadata": {},
   "outputs": [],
   "source": [
    "dataSelected = data[[\n",
    "                     #'Data de cadastro',\n",
    "                     'Tipo de violência',\n",
    "                     'Violência familiar',\n",
    "                     'Denunciante',\n",
    "                     'Filhos vítima',\n",
    "                     'Dependência Financeira da Vítima',\n",
    "                     'Sexo da vítima',\n",
    "                     'Raça\\\\Cor da vítima',\n",
    "                     'Faixa etária da vítima',\n",
    "                     'Grau de instrução da vítima',\n",
    "                     'Frequência',\n",
    "                     'Coabitação contexto',\n",
    "                     'Tempo de violência contexto',\n",
    "                     'Risco contexto',\n",
    "                     'Relação vítima-suspeito',\n",
    "                     'Sexo do suspeito',\n",
    "                     'Raça\\\\Cor do suspeito',\n",
    "                     'Faixa etária do suspeito',\n",
    "                     'Grau de instrução do suspeito',\n",
    "                     'Drogas Álcool Suspeito',\n",
    "                     'Comportamento efeito agressor',\n",
    "                     'Filhos violência',\n",
    "                     #'Violações',\n",
    "                     'UF',\n",
    "                     #'Município',\n",
    "                     'Residência'\n",
    "                    ]].copy()\n",
    "\n",
    "dataSelectedFiltered = RemoveLinhasComNulos(dataSelected)\n",
    "\n",
    "# Definição de com quantos clusters será testado.\n",
    "numbersOfClustersKModes = range(1,10)\n",
    "\n",
    "# Vetores para armazenar os \"custos\" (medida quantitativa de quão bem os clusters foram formados em termos de homogeneidade interna) para o K-Modes\n",
    "costRandom = []\n",
    "costCao = []\n",
    "costHuang = []"
   ]
  },
  {
   "cell_type": "code",
   "execution_count": null,
   "metadata": {},
   "outputs": [],
   "source": [
    "# Escolha aleatória dos modes (init = \"random\").\n",
    "for clustersNumber in list(numbersOfClustersKModes):\n",
    "    kmode = KModes(n_clusters=clustersNumber, init = \"random\", n_init = 5, verbose=1, n_jobs = -1)\n",
    "    kmode.fit_predict(dataSelectedFiltered)\n",
    "    costRandom.append(kmode.cost_)"
   ]
  },
  {
   "cell_type": "code",
   "execution_count": null,
   "metadata": {},
   "outputs": [],
   "source": [
    "# Modes escolhidos com base no algoritmo de Cao (init = \"cao\").\n",
    "for clustersNumber in list(numbersOfClustersKModes):\n",
    "    kmode = KModes(n_clusters=clustersNumber, init = \"cao\", n_init = 5, verbose=1, n_jobs = -1)\n",
    "    kmode.fit_predict(dataSelectedFiltered)\n",
    "    costCao.append(kmode.cost_)"
   ]
  },
  {
   "cell_type": "code",
   "execution_count": null,
   "metadata": {},
   "outputs": [],
   "source": [
    "# Modes escolhidos com base no algoritmo de Huang (init = \"huang\").\n",
    "for clustersNumber in list(numbersOfClustersKModes):\n",
    "    kmode = KModes(n_clusters=clustersNumber, init = \"huang\", n_init = 5, verbose=1, n_jobs = -1)\n",
    "    kmode.fit_predict(dataSelectedFiltered)\n",
    "    costHuang.append(kmode.cost_)"
   ]
  },
  {
   "cell_type": "code",
   "execution_count": null,
   "metadata": {},
   "outputs": [],
   "source": [
    "costsKModes = pd.DataFrame({\n",
    "    \"Random\" : costRandom,\n",
    "    \"Cao\" : costCao,\n",
    "    \"Huang\" : costHuang,\n",
    "    \"Número de Clusters\" : numbersOfClustersKModes\n",
    "})\n",
    "\n",
    "# Visualização dos custos\n",
    "fig = px.line(\n",
    "    costsKModes, \n",
    "    x = \"Número de Clusters\", \n",
    "    y = [\"Random\", \"Cao\", \"Huang\"], \n",
    "    title = (\n",
    "        f\"Método do Cotovelo para o KModes com até {len(numbersOfClustersKModes)} clusters. Dataset: {nomeDoArquivo}<br>\"\n",
    "        f\"Linhas com nulo removidas. Colunas Data de Cadastro, Violações e Município removidas.\"\n",
    "    )\n",
    ")\n",
    "\n",
    "fig.update_layout(\n",
    "    xaxis_title=\"Número de Clusters\",\n",
    "    yaxis_title=\"Custo\",\n",
    "    legend_title=\"Método de Inicialização\"\n",
    ")\n",
    "\n",
    "fig.show()"
   ]
  },
  {
   "cell_type": "markdown",
   "metadata": {},
   "source": [
    "# Clusterização com K-Means"
   ]
  },
  {
   "cell_type": "markdown",
   "metadata": {},
   "source": [
    "## Teste 2\n",
    "\n",
    "Teste de clusterização sobre colunas especificas de perfil de vítima e suspeito, para as duas codificações. Colunas usadas:\n",
    "\n",
    " 'Sexo da vítima',\n",
    " 'Sexo do suspeito', \n",
    " 'Raça\\Cor da vítima', \n",
    " 'Raça\\Cor do suspeito',\n",
    " 'Faixa etária da vítima', \n",
    " 'Faixa etária do suspeito',\n",
    " 'Grau de instrução da vítima', \n",
    " 'Grau de instrução do suspeito'"
   ]
  },
  {
   "cell_type": "markdown",
   "metadata": {},
   "source": [
    "### Teste 2.1\n",
    "\n",
    "**Codificação**: Binária"
   ]
  },
  {
   "cell_type": "code",
   "execution_count": null,
   "metadata": {},
   "outputs": [],
   "source": [
    "# Seleciona as colunas que serão utilizadas\n",
    "dataSelectedTest2_1 = data[['Sexo da vítima',\n",
    "                            'Sexo do suspeito',\n",
    "                            'Raça\\\\Cor da vítima',\n",
    "                            'Raça\\\\Cor do suspeito',\n",
    "                            'Faixa etária da vítima',\n",
    "                            'Faixa etária do suspeito',\n",
    "                            'Grau de instrução da vítima',\n",
    "                            'Grau de instrução do suspeito']].copy()\n",
    "\n",
    "# Visualização dos valores nulos com um heatmap\n",
    "plt.figure(figsize=(20, 10)) \n",
    "sns.heatmap(dataSelectedTest2_1.isnull(), cbar=False, cmap='viridis')\n",
    "plt.show()\n",
    "\n",
    "numeroDeLinhasComNulo = dataSelectedTest2_1.isnull().any(axis=1).sum()\n",
    "numeroDeLinhasSemNulo = dataSelectedTest2_1.notnull().all(axis=1).sum()\n",
    "totalDeLinhas = len(dataSelectedTest2_1)\n",
    "print(f\"Linhas sem valores nulos: {numeroDeLinhasSemNulo}/{totalDeLinhas} ({numeroDeLinhasSemNulo/totalDeLinhas:.2%})\")\n",
    "\n",
    "# Remove as linhas com valores nulos\n",
    "dataSelectedTest2_1 = RemoveLinhasComNulos(dataSelectedTest2_1)\n",
    "\n",
    "# Aplica a codificação Binária\n",
    "codificador = ce.BinaryEncoder(cols=dataSelectedTest2_1.columns)\n",
    "dataSelectedEncodedTest2_1 = codificador.fit_transform(dataSelectedTest2_1) \n",
    "\n",
    "# Definição de com quantos clusters será testado.\n",
    "numbersOfClustersKMeansTest2_1 = range(1, 15)\n",
    "\n",
    "# Vetores para armazenar os \"custos\" (medida quantitativa de quão bem os clusters foram formados em termos de homogeneidade interna) para o K-Means\n",
    "inertiaRandomTest2_1 = []\n",
    "inertiaKMeansTest2_1 = []"
   ]
  },
  {
   "cell_type": "code",
   "execution_count": 8,
   "metadata": {},
   "outputs": [],
   "source": [
    "# Calculando a inertia para a inicialização 'random'\n",
    "for clustersNumber in numbersOfClustersKMeansTest2_1:\n",
    "    kmeans_random = KMeans(n_clusters=clustersNumber, init='random', random_state=42, n_init = 1, max_iter=300, algorithm = 'lloyd', verbose=0)\n",
    "    kmeans_random.fit(dataSelectedEncodedTest2_1)\n",
    "    inertiaRandomTest2_1.append(kmeans_random.inertia_)"
   ]
  },
  {
   "cell_type": "code",
   "execution_count": 9,
   "metadata": {},
   "outputs": [],
   "source": [
    "# Calculando a inertia para a inicialização 'k-means++'\n",
    "for clustersNumber in numbersOfClustersKMeansTest2_1:\n",
    "    kmeans_kmeans = KMeans(n_clusters=clustersNumber, init='k-means++', random_state=42, n_init = 1, max_iter=300, algorithm = 'lloyd', verbose=0)\n",
    "    kmeans_kmeans.fit(dataSelectedEncodedTest2_1)\n",
    "    inertiaKMeansTest2_1.append(kmeans_kmeans.inertia_)"
   ]
  },
  {
   "cell_type": "code",
   "execution_count": null,
   "metadata": {},
   "outputs": [],
   "source": [
    "inertiasKMeansTest2_1 = pd.DataFrame({\n",
    "    \"Random\" : inertiaRandomTest2_1,\n",
    "    \"K-Means++\" : inertiaKMeansTest2_1,\n",
    "    \"Número de Clusters\" : numbersOfClustersKMeansTest2_1\n",
    "})\n",
    "\n",
    "# Visualização dos custos\n",
    "fig2_1 = px.line(\n",
    "    inertiasKMeansTest2_1, \n",
    "    x = \"Número de Clusters\", \n",
    "    y = [\"Random\", \"K-Means++\"], \n",
    "    title = (\n",
    "        f\"Teste 2.1: Método do Cotovelo para o KMeans com até {len(numbersOfClustersKMeansTest2_1)} clusters. Dataset: {nomeDoArquivo}. Codificação: binária.<br>\"\n",
    "        f\"Linhas com nulo removidas. Colunas: Sexo, Raça\\\\Cor, Faixa Etária e Grau de Instrução (vítima e suspeito)\"\n",
    "    )\n",
    ")\n",
    "\n",
    "fig2_1.update_layout(\n",
    "    xaxis_title=\"Número de Clusters\",\n",
    "    yaxis_title=\"Inércia\",\n",
    "    legend_title=\"Método de Inicialização\"\n",
    ")\n",
    "\n",
    "fig2_1.show()"
   ]
  },
  {
   "cell_type": "markdown",
   "metadata": {},
   "source": [
    "### Teste 2.2\n",
    "\n",
    "**Codificação**: One-Hot"
   ]
  },
  {
   "cell_type": "code",
   "execution_count": null,
   "metadata": {},
   "outputs": [],
   "source": [
    "# Seleciona as colunas que serão utilizadas\n",
    "dataSelectedTest2_2 = data[['Sexo da vítima',\n",
    "                     'Sexo do suspeito',\n",
    "                     'Raça\\\\Cor da vítima',\n",
    "                     'Raça\\\\Cor do suspeito',\n",
    "                     'Faixa etária da vítima',\n",
    "                     'Faixa etária do suspeito',\n",
    "                     'Grau de instrução da vítima',\n",
    "                     'Grau de instrução do suspeito']].copy()\n",
    "\n",
    "# Visualização dos valores nulos com um heatmap\n",
    "plt.figure(figsize=(20, 10)) \n",
    "sns.heatmap(dataSelectedTest2_2.isnull(), cbar=False, cmap='viridis')\n",
    "plt.show()\n",
    "\n",
    "numeroDeLinhasComNulo = dataSelectedTest2_2.isnull().any(axis=1).sum()\n",
    "numeroDeLinhasSemNulo = dataSelectedTest2_2.notnull().all(axis=1).sum()\n",
    "totalDeLinhas = len(dataSelectedTest2_2)\n",
    "print(f\"Linhas sem valores nulos: {numeroDeLinhasSemNulo}/{totalDeLinhas} ({numeroDeLinhasSemNulo/totalDeLinhas:.2%})\")\n",
    "\n",
    "# Remove as linhas com valores nulos\n",
    "dataSelectedTest2_2 = RemoveLinhasComNulos(dataSelectedTest2_2)\n",
    "\n",
    "# Aplica a codificação One-Hot\n",
    "dataSelectedEncodedTest2_2 = pd.get_dummies(dataSelectedTest2_2)\n",
    "\n",
    "# Definição de com quantos clusters será testado.\n",
    "numbersOfClustersKMeansTest2_2 = range(1, 15)\n",
    "\n",
    "# Vetores para armazenar os \"custos\" (medida quantitativa de quão bem os clusters foram formados em termos de homogeneidade interna) para o K-Means\n",
    "inertiaRandomTest2_2 = []\n",
    "inertiaKMeansTest2_2 = []"
   ]
  },
  {
   "cell_type": "code",
   "execution_count": 14,
   "metadata": {},
   "outputs": [],
   "source": [
    "# Calculando a inertia para a inicialização 'random'\n",
    "for clustersNumber in numbersOfClustersKMeansTest2_2:\n",
    "    kmeans_random = KMeans(n_clusters=clustersNumber, init='random', random_state=42, n_init = 1, max_iter=300, algorithm = 'lloyd', verbose=0)\n",
    "    kmeans_random.fit(dataSelectedEncodedTest2_2)\n",
    "    inertiaRandomTest2_2.append(kmeans_random.inertia_)"
   ]
  },
  {
   "cell_type": "code",
   "execution_count": 15,
   "metadata": {},
   "outputs": [],
   "source": [
    "# Calculando a inertia para a inicialização 'k-means++'\n",
    "for clustersNumber in numbersOfClustersKMeansTest2_2:\n",
    "    kmeans_kmeans = KMeans(n_clusters=clustersNumber, init='k-means++', random_state=42, n_init = 1, max_iter=300, algorithm = 'lloyd', verbose=0)\n",
    "    kmeans_kmeans.fit(dataSelectedEncodedTest2_2)\n",
    "    inertiaKMeansTest2_2.append(kmeans_kmeans.inertia_)"
   ]
  },
  {
   "cell_type": "code",
   "execution_count": null,
   "metadata": {},
   "outputs": [],
   "source": [
    "inertiasKMeansTest2_2 = pd.DataFrame({\n",
    "    \"Random\" : inertiaRandomTest2_2,\n",
    "    \"K-Means++\" : inertiaKMeansTest2_2,\n",
    "    \"Número de Clusters\" : numbersOfClustersKMeansTest2_2\n",
    "})\n",
    "\n",
    "# Visualização dos custos\n",
    "fig2_2 = px.line(\n",
    "    inertiasKMeansTest2_2, \n",
    "    x = \"Número de Clusters\", \n",
    "    y = [\"Random\", \"K-Means++\"], \n",
    "    title = (\n",
    "        f\"Teste 2.2: Método do Cotovelo para o KMeans com até {len(numbersOfClustersKMeansTest2_2)} clusters. Dataset: {nomeDoArquivo}. Codificação: One-Hot.<br> \"\n",
    "        f\"Linhas com nulo removidas, colunas: Sexo, Raça\\\\Cor, Faixa Etária e Grau de Instrução (vítima e suspeito)\"\n",
    "    )\n",
    ")\n",
    "\n",
    "fig2_2.update_layout(\n",
    "    xaxis_title=\"Número de Clusters\",\n",
    "    yaxis_title=\"Inércia\",\n",
    "    legend_title=\"Método de Inicialização\"\n",
    ")\n",
    "\n",
    "fig2_2.show()"
   ]
  },
  {
   "cell_type": "markdown",
   "metadata": {},
   "source": [
    "## Teste 3\n",
    "\n",
    "Teste de clusterização sobre colunas especificas de perfil apenas da vítima para as duas codificações. Colunas usadas:\n",
    "\n",
    " 'Sexo da vítima', \n",
    " 'Raça\\Cor da vítima',\n",
    " 'Faixa etária da vítima', \n",
    " 'Grau de instrução da vítima', \n"
   ]
  },
  {
   "cell_type": "markdown",
   "metadata": {},
   "source": [
    "### Teste 3.1\n",
    "\n",
    "**Codificação:** Binária"
   ]
  },
  {
   "cell_type": "code",
   "execution_count": null,
   "metadata": {},
   "outputs": [],
   "source": [
    "# Seleciona as colunas que serão utilizadas\n",
    "dataSelectedTest3_1 = data[['Sexo da vítima',\n",
    "                            'Raça\\\\Cor da vítima',\n",
    "                            'Faixa etária da vítima',\n",
    "                            'Grau de instrução da vítima',]].copy()\n",
    "\n",
    "# Visualização dos valores nulos com um heatmap\n",
    "plt.figure(figsize=(20, 10)) \n",
    "sns.heatmap(dataSelectedTest3_1.isnull(), cbar=False, cmap='viridis')\n",
    "plt.show()\n",
    "\n",
    "numeroDeLinhasComNulo = dataSelectedTest3_1.isnull().any(axis=1).sum()\n",
    "numeroDeLinhasSemNulo = dataSelectedTest3_1.notnull().all(axis=1).sum()\n",
    "totalDeLinhas = len(dataSelectedTest3_1)\n",
    "print(f\"Linhas sem valores nulos: {numeroDeLinhasSemNulo}/{totalDeLinhas} ({numeroDeLinhasSemNulo/totalDeLinhas:.2%})\")\n",
    "\n",
    "# Remove as linhas com valores nulos\n",
    "dataSelectedTest3_1 = RemoveLinhasComNulos(dataSelectedTest3_1)\n",
    "\n",
    "# Aplica a codificação Binária\n",
    "codificador = ce.BinaryEncoder(cols=dataSelectedTest3_1.columns)\n",
    "dataSelectedEncodedTest3_1 = codificador.fit_transform(dataSelectedTest3_1) \n",
    "\n",
    "# Definição de com quantos clusters será testado.\n",
    "numbersOfClustersKMeansTest3_1 = range(1, 15)\n",
    "\n",
    "# Vetores para armazenar os \"custos\" (medida quantitativa de quão bem os clusters foram formados em termos de homogeneidade interna) para o K-Means\n",
    "inertiaRandomTest3_1 = []\n",
    "inertiaKMeansTest3_1 = []"
   ]
  },
  {
   "cell_type": "code",
   "execution_count": 7,
   "metadata": {},
   "outputs": [],
   "source": [
    "# Calculando a inertia para a inicialização 'random'\n",
    "for clustersNumber in numbersOfClustersKMeansTest3_1:\n",
    "    kmeans_random = KMeans(n_clusters=clustersNumber, init='random', random_state=42, n_init = 1, max_iter=300, algorithm = 'lloyd', verbose=0)\n",
    "    kmeans_random.fit(dataSelectedEncodedTest3_1)\n",
    "    inertiaRandomTest3_1.append(kmeans_random.inertia_)"
   ]
  },
  {
   "cell_type": "code",
   "execution_count": 8,
   "metadata": {},
   "outputs": [],
   "source": [
    "# Calculando a inertia para a inicialização 'k-means++'\n",
    "for clustersNumber in numbersOfClustersKMeansTest3_1:\n",
    "    kmeans_kmeans = KMeans(n_clusters=clustersNumber, init='k-means++', random_state=42, n_init = 1, max_iter=300, algorithm = 'lloyd', verbose=0)\n",
    "    kmeans_kmeans.fit(dataSelectedEncodedTest3_1)\n",
    "    inertiaKMeansTest3_1.append(kmeans_kmeans.inertia_)"
   ]
  },
  {
   "cell_type": "code",
   "execution_count": null,
   "metadata": {},
   "outputs": [],
   "source": [
    "inertiasKMeansTest3_1 = pd.DataFrame({\n",
    "    \"Random\" : inertiaRandomTest3_1,\n",
    "    \"K-Means++\" : inertiaKMeansTest3_1,\n",
    "    \"Número de Clusters\" : numbersOfClustersKMeansTest3_1\n",
    "})\n",
    "\n",
    "# Visualização dos custos\n",
    "fig3_1 = px.line(\n",
    "    inertiasKMeansTest3_1, \n",
    "    x = \"Número de Clusters\", \n",
    "    y = [\"Random\", \"K-Means++\"], \n",
    "    title = (\n",
    "        f\"Teste 3.1: Método do Cotovelo para o KMeans com até {len(numbersOfClustersKMeansTest3_1)} clusters. Dataset: {nomeDoArquivo}. Codificação: binária.  <br>\"\n",
    "        f\"Linhas com nulo removidas. Colunas: Sexo, Raça\\\\Cor, Faixa Etária e Grau de Instrução (apenas vítima)\"\n",
    "    )\n",
    ")\n",
    "\n",
    "fig3_1.update_layout(\n",
    "    xaxis_title=\"Número de Clusters\",\n",
    "    yaxis_title=\"Inércia\",\n",
    "    legend_title=\"Método de Inicialização\",\n",
    ")\n",
    "\n",
    "fig3_1.show()"
   ]
  },
  {
   "cell_type": "code",
   "execution_count": 10,
   "metadata": {},
   "outputs": [],
   "source": [
    "# Aplica a clusterização com 4 clusters\n",
    "kmeans = KMeans(n_clusters=4, init='k-means++', random_state=42, n_init=10, max_iter=300)\n",
    "kmeans.fit(dataSelectedEncodedTest3_1)\n",
    "\n",
    "# Adiciona os labels dos clusters ao dataset original\n",
    "dataSelectedTest3_1['Cluster'] = kmeans.labels_"
   ]
  },
  {
   "cell_type": "code",
   "execution_count": null,
   "metadata": {},
   "outputs": [],
   "source": [
    "# Criação de um gráfico 3D para visualização dos clusters\n",
    "#fig = px.scatter_3d(dataSelectedTest3_1,\n",
    "#                    x='Faixa etária da vítima',\n",
    "#                    y='Raça\\\\Cor da vítima',\n",
    "#                    z='Grau de instrução da vítima',\n",
    "#                    color='Cluster',\n",
    "#                    title='Visualização 3D dos Clusters (Faixa Etária, Grau de Instrução e Raça\\\\Cor da Vítima)',\n",
    "#                    labels={'Cluster': 'Cluster'})\n",
    "#\n",
    "#fig.show()"
   ]
  },
  {
   "cell_type": "code",
   "execution_count": null,
   "metadata": {},
   "outputs": [],
   "source": [
    "# Inicializando o app Dash\n",
    "app = dash.Dash(__name__)\n",
    "\n",
    "# Função para criar gráficos\n",
    "def create_bar_chart(data):\n",
    "    faixaEtariaCluster = data.groupby(['Faixa etária da vítima', 'Cluster']).size().reset_index(name='Count')\n",
    "    return px.bar(faixaEtariaCluster, \n",
    "                  x='Faixa etária da vítima', \n",
    "                  y='Count', \n",
    "                  color='Cluster', \n",
    "                  barmode='group', \n",
    "                  title='Distribuição da Faixa Etária da Vítima por Cluster')\n",
    "\n",
    "def create_scatter_plot(data):\n",
    "    return px.scatter(data, \n",
    "                      x='Faixa etária da vítima', \n",
    "                      y='Grau de instrução da vítima', \n",
    "                      color='Cluster', \n",
    "                      title='Relação entre Faixa Etária e Grau de Instrução por Cluster',\n",
    "                      labels={'Faixa etária da vítima': 'Faixa Etária', 'Grau de instrução da vítima': 'Grau de Instrução'})\n",
    "\n",
    "def create_heatmap(data):\n",
    "    heatmap_data = pd.crosstab([data['Faixa etária da vítima'], data['Raça\\\\Cor da vítima']], data['Cluster'], normalize='index')\n",
    "    return px.imshow(heatmap_data, \n",
    "                     title='Distribuição de Faixa Etária e Raça/Cor da Vítima por Cluster',\n",
    "                     labels={'x': 'Cluster', 'y': 'Faixa etária e Raça/Cor da Vítima'},\n",
    "                     color_continuous_scale='Viridis')\n",
    "\n",
    "# Layout do dashboard\n",
    "app.layout = html.Div([\n",
    "    html.H1(\"Dashboard de Análise de Clusters\"),\n",
    "\n",
    "    # Primeiro gráfico - Gráfico de Barras\n",
    "    dcc.Graph(id='bar-chart', figure=create_bar_chart(dataSelectedTest3_1)),\n",
    "\n",
    "    # Segundo gráfico - Gráfico de Dispersão\n",
    "    dcc.Graph(id='scatter-plot', figure=create_scatter_plot(dataSelectedTest3_1)),\n",
    "\n",
    "    # Terceiro gráfico - Heatmap\n",
    "    dcc.Graph(id='heatmap', figure=create_heatmap(dataSelectedTest3_1)),\n",
    "])\n",
    "\n",
    "# Executando o app\n",
    "if __name__ == '__main__':\n",
    "    app.run_server(debug=True)"
   ]
  },
  {
   "cell_type": "markdown",
   "metadata": {},
   "source": [
    "### Teste 3.2\n",
    "\n",
    "**Codificação:** One-Hot"
   ]
  },
  {
   "cell_type": "code",
   "execution_count": null,
   "metadata": {},
   "outputs": [],
   "source": [
    "# Seleciona as colunas que serão utilizadas\n",
    "dataSelectedTest3_2 = data[['Sexo da vítima',\n",
    "                            'Raça\\\\Cor da vítima',\n",
    "                            'Faixa etária da vítima',\n",
    "                            'Grau de instrução da vítima',]].copy()\n",
    "\n",
    "# Visualização dos valores nulos com um heatmap\n",
    "plt.figure(figsize=(20, 10)) \n",
    "sns.heatmap(dataSelectedTest3_2.isnull(), cbar=False, cmap='viridis')\n",
    "plt.show()\n",
    "\n",
    "numeroDeLinhasComNulo = dataSelectedTest3_2.isnull().any(axis=1).sum()\n",
    "numeroDeLinhasSemNulo = dataSelectedTest3_2.notnull().all(axis=1).sum()\n",
    "totalDeLinhas = len(dataSelectedTest3_2)\n",
    "print(f\"Linhas sem valores nulos: {numeroDeLinhasSemNulo}/{totalDeLinhas} ({numeroDeLinhasSemNulo/totalDeLinhas:.2%})\")\n",
    "\n",
    "# Remove as linhas com valores nulos\n",
    "dataSelectedTest3_2 = RemoveLinhasComNulos(dataSelectedTest3_2)\n",
    "\n",
    "# Aplica a codificação One-Hot\n",
    "dataSelectedEncodedTest3_2 = pd.get_dummies(dataSelectedTest3_2)\n",
    "\n",
    "# Definição de com quantos clusters será testado.\n",
    "numbersOfClustersKMeansTest3_2 = range(1, 15)\n",
    "\n",
    "# Vetores para armazenar os \"custos\" (medida quantitativa de quão bem os clusters foram formados em termos de homogeneidade interna) para o K-Means\n",
    "inertiaRandomTest3_2 = []\n",
    "inertiaKMeansTest3_2 = []"
   ]
  },
  {
   "cell_type": "code",
   "execution_count": 6,
   "metadata": {},
   "outputs": [],
   "source": [
    "# Calculando a inertia para a inicialização 'random'\n",
    "for clustersNumber in numbersOfClustersKMeansTest3_2:\n",
    "    kmeans_random = KMeans(n_clusters=clustersNumber, init='random', random_state=42, n_init = 1, max_iter=300, algorithm = 'lloyd', verbose=0)\n",
    "    kmeans_random.fit(dataSelectedEncodedTest3_2)\n",
    "    inertiaRandomTest3_2.append(kmeans_random.inertia_)"
   ]
  },
  {
   "cell_type": "code",
   "execution_count": 7,
   "metadata": {},
   "outputs": [],
   "source": [
    "# Calculando a inertia para a inicialização 'k-means++'\n",
    "for clustersNumber in numbersOfClustersKMeansTest3_2:\n",
    "    kmeans_kmeans = KMeans(n_clusters=clustersNumber, init='k-means++', random_state=42, n_init = 1, max_iter=300, algorithm = 'lloyd', verbose=0)\n",
    "    kmeans_kmeans.fit(dataSelectedEncodedTest3_2)\n",
    "    inertiaKMeansTest3_2.append(kmeans_kmeans.inertia_)"
   ]
  },
  {
   "cell_type": "code",
   "execution_count": null,
   "metadata": {},
   "outputs": [],
   "source": [
    "inertiasKMeansTest3_2 = pd.DataFrame({\n",
    "    \"Random\" : inertiaRandomTest3_2,\n",
    "    \"K-Means++\" : inertiaKMeansTest3_2,\n",
    "    \"Número de Clusters\" : numbersOfClustersKMeansTest3_2\n",
    "})\n",
    "\n",
    "# Visualização dos custos\n",
    "fig3_2 = px.line(\n",
    "    inertiasKMeansTest3_2, \n",
    "    x = \"Número de Clusters\", \n",
    "    y = [\"Random\", \"K-Means++\"], \n",
    "    title = (\n",
    "        f\"Teste 3.2: Método do Cotovelo para o KMeans com até {len(numbersOfClustersKMeansTest3_2)} clusters. Dataset: {nomeDoArquivo}. Codificação: One-Hot.  <br>\"\n",
    "        f\"Linhas com nulo removidas. Colunas: Sexo, Raça\\\\Cor, Faixa Etária e Grau de Instrução (apenas vítima)\"\n",
    "    )\n",
    ")\n",
    "\n",
    "fig3_2.update_layout(\n",
    "    xaxis_title=\"Número de Clusters\",\n",
    "    yaxis_title=\"Inércia\",\n",
    "    legend_title=\"Método de Inicialização\",\n",
    ")\n",
    "\n",
    "fig3_2.show()"
   ]
  },
  {
   "cell_type": "markdown",
   "metadata": {},
   "source": [
    "## Teste 4\n",
    "\n",
    "Teste de clusterização sobre colunas especificas de perfil do suspeito, para as duas codificações. Colunas usadas:\n",
    "\n",
    " 'Sexo do suspeito',\n",
    " 'Raça\\Cor do suspeito', \n",
    " 'Faixa etária do suspeito', \n",
    " 'Grau de instrução do suspeito'"
   ]
  },
  {
   "cell_type": "markdown",
   "metadata": {},
   "source": [
    "### Teste 4.1\n",
    "\n",
    "**Codificação:** Binária"
   ]
  },
  {
   "cell_type": "code",
   "execution_count": null,
   "metadata": {},
   "outputs": [],
   "source": [
    "# Seleciona as colunas que serão utilizadas\n",
    "dataSelectedTest4_1 = data[['Sexo do suspeito',\n",
    "                            'Raça\\\\Cor do suspeito',\n",
    "                            'Faixa etária do suspeito',\n",
    "                            'Grau de instrução do suspeito',]].copy()\n",
    "\n",
    "# Visualização dos valores nulos com um heatmap\n",
    "plt.figure(figsize=(20, 10))\n",
    "sns.heatmap(dataSelectedTest4_1.isnull(), cbar=False, cmap='viridis')\n",
    "plt.show()\n",
    "\n",
    "numeroDeLinhasComNulo = dataSelectedTest4_1.isnull().any(axis=1).sum()\n",
    "numeroDeLinhasSemNulo = dataSelectedTest4_1.notnull().all(axis=1).sum()\n",
    "totalDeLinhas = len(dataSelectedTest4_1)\n",
    "print(f\"Linhas sem valores nulos: {numeroDeLinhasSemNulo}/{totalDeLinhas} ({numeroDeLinhasSemNulo/totalDeLinhas:.2%})\")\n",
    "\n",
    "# Remove as linhas com valores nulos\n",
    "dataSelectedTest4_1 = RemoveLinhasComNulos(dataSelectedTest4_1)\n",
    "\n",
    "# Aplica a codificação Binária\n",
    "codificador = ce.BinaryEncoder(cols=dataSelectedTest4_1.columns)\n",
    "dataSelectedEncodedTest4_1 = codificador.fit_transform(dataSelectedTest4_1) \n",
    "\n",
    "# Definição de com quantos clusters será testado.\n",
    "numbersOfClustersKMeansTest4_1 = range(1, 15)\n",
    "\n",
    "# Vetores para armazenar os \"custos\" (medida quantitativa de quão bem os clusters foram formados em termos de homogeneidade interna) para o K-Means\n",
    "inertiaRandomTest4_1 = []\n",
    "inertiaKMeansTest4_1 = []"
   ]
  },
  {
   "cell_type": "code",
   "execution_count": 10,
   "metadata": {},
   "outputs": [],
   "source": [
    "# Calculando a inertia para a inicialização 'random'\n",
    "for clustersNumber in numbersOfClustersKMeansTest4_1:\n",
    "    kmeans_random = KMeans(n_clusters=clustersNumber, init='random', random_state=42, n_init = 1, max_iter=300, algorithm = 'lloyd', verbose=0)\n",
    "    kmeans_random.fit(dataSelectedEncodedTest4_1)\n",
    "    inertiaRandomTest4_1.append(kmeans_random.inertia_)\n"
   ]
  },
  {
   "cell_type": "code",
   "execution_count": 11,
   "metadata": {},
   "outputs": [],
   "source": [
    "# Calculando a inertia para a inicialização 'k-means++'\n",
    "for clustersNumber in numbersOfClustersKMeansTest4_1:\n",
    "    kmeans_kmeans = KMeans(n_clusters=clustersNumber, init='k-means++', random_state=42, n_init = 1, max_iter=300, algorithm = 'lloyd', verbose=0)\n",
    "    kmeans_kmeans.fit(dataSelectedEncodedTest4_1)\n",
    "    inertiaKMeansTest4_1.append(kmeans_kmeans.inertia_)"
   ]
  },
  {
   "cell_type": "code",
   "execution_count": null,
   "metadata": {},
   "outputs": [],
   "source": [
    "inertiasKMeansTest4_1 = pd.DataFrame({\n",
    "    \"Random\" : inertiaRandomTest4_1,\n",
    "    \"K-Means++\" : inertiaKMeansTest4_1,\n",
    "    \"Número de Clusters\" : numbersOfClustersKMeansTest4_1\n",
    "})\n",
    "\n",
    "# Visualização dos custos\n",
    "fig4_1 = px.line(\n",
    "    inertiasKMeansTest4_1, \n",
    "    x = \"Número de Clusters\", \n",
    "    y = [\"Random\", \"K-Means++\"], \n",
    "    title = (\n",
    "        f\"Teste 4.1: Método do Cotovelo para o KMeans com até {len(numbersOfClustersKMeansTest4_1)} clusters. Dataset: {nomeDoArquivo}. Codificação: binária.  <br>\"\n",
    "        f\"Linhas com nulo removidas. Colunas: Sexo, Raça\\\\Cor, Faixa Etária e Grau de Instrução (apenas suspeito)\"\n",
    "    )\n",
    ")\n",
    "\n",
    "fig4_1.update_layout(\n",
    "    xaxis_title=\"Número de Clusters\",\n",
    "    yaxis_title=\"Inércia\",\n",
    "    legend_title=\"Método de Inicialização\",\n",
    ")\n",
    "\n",
    "fig4_1.show()"
   ]
  },
  {
   "cell_type": "markdown",
   "metadata": {},
   "source": [
    "### Teste 4.2\n",
    "\n",
    "**Codificação:** One-Hot"
   ]
  },
  {
   "cell_type": "code",
   "execution_count": null,
   "metadata": {},
   "outputs": [],
   "source": [
    "# Seleciona as colunas que serão utilizadas\n",
    "dataSelectedTest4_2 = data[['Sexo do suspeito',\n",
    "                            'Raça\\\\Cor do suspeito',\n",
    "                            'Faixa etária do suspeito',\n",
    "                            'Grau de instrução do suspeito',]].copy()\n",
    "\n",
    "# Visualização dos valores nulos com um heatmap\n",
    "plt.figure(figsize=(20, 10))\n",
    "sns.heatmap(dataSelectedTest4_2.isnull(), cbar=False, cmap='viridis')\n",
    "plt.show()\n",
    "\n",
    "numeroDeLinhasComNulo = dataSelectedTest4_2.isnull().any(axis=1).sum()\n",
    "numeroDeLinhasSemNulo = dataSelectedTest4_2.notnull().all(axis=1).sum()\n",
    "totalDeLinhas = len(dataSelectedTest4_2)\n",
    "print(f\"Linhas sem valores nulos: {numeroDeLinhasSemNulo}/{totalDeLinhas} ({numeroDeLinhasSemNulo/totalDeLinhas:.2%})\")\n",
    "\n",
    "# Remove as linhas com valores nulos\n",
    "dataSelectedTest4_2 = RemoveLinhasComNulos(dataSelectedTest4_2)\n",
    "\n",
    "# Aplica a codificação One-Hot\n",
    "dataSelectedEncodedTest4_2 = pd.get_dummies(dataSelectedTest4_2)\n",
    "\n",
    "# Definição de com quantos clusters será testado.\n",
    "numbersOfClustersKMeansTest4_2 = range(1, 15)\n",
    "\n",
    "# Vetores para armazenar os \"custos\" (medida quantitativa de quão bem os clusters foram formados em termos de homogeneidade interna) para o K-Means\n",
    "inertiaRandomTest4_2 = []\n",
    "inertiaKMeansTest4_2 = []"
   ]
  },
  {
   "cell_type": "code",
   "execution_count": null,
   "metadata": {},
   "outputs": [],
   "source": [
    "# Calculando a inertia para a inicialização 'random'\n",
    "for clustersNumber in numbersOfClustersKMeansTest4_2:\n",
    "    kmeans_random = KMeans(n_clusters=clustersNumber, init='random', random_state=42, n_init = 1, max_iter=300, algorithm = 'lloyd', verbose=0)\n",
    "    kmeans_random.fit(dataSelectedEncodedTest4_2)\n",
    "    inertiaRandomTest4_2.append(kmeans_random.inertia_)"
   ]
  },
  {
   "cell_type": "code",
   "execution_count": null,
   "metadata": {},
   "outputs": [],
   "source": [
    "# Calculando a inertia para a inicialização 'k-means++'\n",
    "for clustersNumber in numbersOfClustersKMeansTest4_2:\n",
    "    kmeans_kmeans = KMeans(n_clusters=clustersNumber, init='k-means++', random_state=42, n_init = 1, max_iter=300, algorithm = 'lloyd', verbose=0)\n",
    "    kmeans_kmeans.fit(dataSelectedEncodedTest4_2)\n",
    "    inertiaKMeansTest4_2.append(kmeans_kmeans.inertia_)"
   ]
  },
  {
   "cell_type": "code",
   "execution_count": null,
   "metadata": {},
   "outputs": [],
   "source": [
    "inertiasKMeansTest4_2 = pd.DataFrame({\n",
    "    \"Random\" : inertiaRandomTest4_2,\n",
    "    \"K-Means++\" : inertiaKMeansTest4_2,\n",
    "    \"Número de Clusters\" : numbersOfClustersKMeansTest4_2\n",
    "})\n",
    "\n",
    "# Visualização dos custos\n",
    "fig4_2 = px.line(\n",
    "    inertiasKMeansTest4_2, \n",
    "    x = \"Número de Clusters\", \n",
    "    y = [\"Random\", \"K-Means++\"], \n",
    "    title = (\n",
    "        f\"Teste 4.2: Método do Cotovelo para o KMeans com até {len(numbersOfClustersKMeansTest4_2)} clusters. Dataset: {nomeDoArquivo}. Codificação: One-Hot.  <br>\"\n",
    "        f\"Linhas com nulo removidas. Colunas: Sexo, Raça\\\\Cor, Faixa Etária e Grau de Instrução (apenas suspeito)\"\n",
    "    )\n",
    ")\n",
    "\n",
    "fig4_2.update_layout(\n",
    "    xaxis_title=\"Número de Clusters\",\n",
    "    yaxis_title=\"Inércia\",\n",
    "    legend_title=\"Método de Inicialização\",\n",
    ")\n",
    "\n",
    "fig4_2.show()"
   ]
  }
 ],
 "metadata": {
  "kernelspec": {
   "display_name": "base",
   "language": "python",
   "name": "python3"
  },
  "language_info": {
   "codemirror_mode": {
    "name": "ipython",
    "version": 3
   },
   "file_extension": ".py",
   "mimetype": "text/x-python",
   "name": "python",
   "nbconvert_exporter": "python",
   "pygments_lexer": "ipython3",
   "version": "3.12.3"
  }
 },
 "nbformat": 4,
 "nbformat_minor": 2
}
