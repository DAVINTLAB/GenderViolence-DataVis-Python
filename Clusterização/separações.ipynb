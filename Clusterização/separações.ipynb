{
 "cells": [
  {
   "cell_type": "code",
   "execution_count": 1,
   "id": "3a81265f",
   "metadata": {},
   "outputs": [
    {
     "name": "stderr",
     "output_type": "stream",
     "text": [
      "/tmp/ipykernel_3499/2332845544.py:2: DtypeWarning: Columns (1,2,3,4,5,6,7,8,9,11,13,15,17,18,19,20,21,22,23,24,25,26,27,28,30,32,33,34,36,38,39,40,41,42,43,44,45,46,47,48,49,50,51,53,54,55,56,57,58,59,60,61,62,63,64,65,66,67,68,69,70,71,72,73,74,75,76) have mixed types. Specify dtype option on import or set low_memory=False.\n",
      "  df = pd.read_csv('2014_a_2024-1.csv')\n"
     ]
    }
   ],
   "source": [
    "import pandas as pd\n",
    "df = pd.read_csv('2014_a_2024-1.csv')"
   ]
  },
  {
   "cell_type": "code",
   "execution_count": 2,
   "id": "178eab4c",
   "metadata": {},
   "outputs": [
    {
     "name": "stdout",
     "output_type": "stream",
     "text": [
      "<class 'pandas.core.frame.DataFrame'>\n",
      "RangeIndex: 1128678 entries, 0 to 1128677\n",
      "Data columns (total 77 columns):\n",
      " #   Column                                            Non-Null Count    Dtype  \n",
      "---  ------                                            --------------    -----  \n",
      " 0   Data de cadastro                                  1128678 non-null  object \n",
      " 1   Canal de atendimento                              592610 non-null   object \n",
      " 2   Denúncia emergencial                              461710 non-null   object \n",
      " 3   Denunciante                                       946341 non-null   object \n",
      " 4   Cenário da violação                               590210 non-null   object \n",
      " 5   País                                              403786 non-null   object \n",
      " 6   UF                                                889787 non-null   object \n",
      " 7   Município                                         871949 non-null   object \n",
      " 8   Frequência                                        784879 non-null   object \n",
      " 9   Início das violações                              366329 non-null   object \n",
      " 10  sl quantidade vitimas                             403849 non-null   float64\n",
      " 11  Motivações                                        306671 non-null   object \n",
      " 12  Relação vítima-suspeito                           1004338 non-null  object \n",
      " 13  sl vitima cadastro                                403775 non-null   object \n",
      " 14  Sexo da vítima                                    1081832 non-null  object \n",
      " 15  Orientação sexual da vítima                       319995 non-null   object \n",
      " 16  Faixa etária da vítima                            968028 non-null   object \n",
      " 17  Nacionalidade da vítima                           449842 non-null   object \n",
      " 18  sl vitima naturalidade                            124233 non-null   object \n",
      " 19  sl vitima naturalizado uf                         108043 non-null   object \n",
      " 20  sl vitima naturalizado municipio                  101747 non-null   object \n",
      " 21  Deficiência da vítima                             134336 non-null   object \n",
      " 22  Doença rara da vítima                             378772 non-null   object \n",
      " 23  Deficiência relacionada a doença rara             50761 non-null    object \n",
      " 24  Vítima preso(a)                                   292374 non-null   object \n",
      " 25  País da vítima                                    431033 non-null   object \n",
      " 26  UF da vítima                                      530106 non-null   object \n",
      " 27  Município da vítima                               526756 non-null   object \n",
      " 28  Profissão da vítima                               332661 non-null   object \n",
      " 29  Grau de instrução da vítima                       634692 non-null   object \n",
      " 30  Religião da vítima                                102275 non-null   object \n",
      " 31  Raça\\Cor da vítima                                854451 non-null   object \n",
      " 32  Etnia da vítima                                   6636 non-null     object \n",
      " 33  Faixa de renda da vítima                          138956 non-null   object \n",
      " 34  Natureza Jurídica do Suspeito                     403777 non-null   object \n",
      " 35  Sexo do suspeito                                  1022814 non-null  object \n",
      " 36  Orientação sexual do suspeito                     276751 non-null   object \n",
      " 37  Faixa etária do suspeito                          787344 non-null   object \n",
      " 38  Nacionalidade do suspeito                         420545 non-null   object \n",
      " 39  sl suspeito naturalidade                          105448 non-null   object \n",
      " 40  sl suspeito naturalizado uf                       79753 non-null    object \n",
      " 41  sl suspeito naturalizado municipio                71968 non-null    object \n",
      " 42  Deficiência do suspeito                           129701 non-null   object \n",
      " 43  Doença rara do suspeito                           378772 non-null   object \n",
      " 44  Deficiência relacionada a doença rara (suspeito)  46100 non-null    object \n",
      " 45  Suspeito preso                                    213022 non-null   object \n",
      " 46  País do suspeito                                  428109 non-null   object \n",
      " 47  UF do suspeito                                    510339 non-null   object \n",
      " 48  Município do suspeito                             506040 non-null   object \n",
      " 49  Profissão do suspeito                             390195 non-null   object \n",
      " 50  Grau de instrução do suspeito                     319211 non-null   object \n",
      " 51  Religião do suspeito                              59522 non-null    object \n",
      " 52  Raça\\Cor do suspeito                              687112 non-null   object \n",
      " 53  Etnia do Suspeito                                 5630 non-null     object \n",
      " 54  Faixa de renda do suspeito                        56847 non-null    object \n",
      " 55  Vínculo Órgão\\PJ do suspeito                      647 non-null      object \n",
      " 56  sl suspeito ramo                                  14624 non-null    object \n",
      " 57  suspeito especificacao etnia                      1603 non-null     object \n",
      " 58  vitima especificacao etnia                        2677 non-null     object \n",
      " 59  Violações                                         1048642 non-null  object \n",
      " 60  Suspeito nacionalidade                            71417 non-null    object \n",
      " 61  Tipo de violência                                 536041 non-null   object \n",
      " 62  Violência familiar                                495539 non-null   object \n",
      " 63  Filhos vítima                                     301572 non-null   object \n",
      " 64  Dependência Financeira da Vítima                  300125 non-null   object \n",
      " 65  Coabitação contexto                               388501 non-null   object \n",
      " 66  Tempo de violência contexto                       289522 non-null   object \n",
      " 67  Risco contexto                                    307559 non-null   object \n",
      " 68  Drogas Álcool Suspeito                            260651 non-null   object \n",
      " 69  Comportamento efeito agressor                     232557 non-null   object \n",
      " 70  Filhos violência                                  207005 non-null   object \n",
      " 71  Residência                                        393016 non-null   object \n",
      " 72  Sub grupo violação                                115324 non-null   object \n",
      " 73  Relação Demandante Vítima                         131137 non-null   object \n",
      " 74  Estado civil da vítima                            109701 non-null   object \n",
      " 75  Estado civil do suspeito                          83471 non-null    object \n",
      " 76  Agravantes                                        56578 non-null    object \n",
      "dtypes: float64(1), object(76)\n",
      "memory usage: 663.1+ MB\n"
     ]
    }
   ],
   "source": [
    "df.info()"
   ]
  },
  {
   "cell_type": "code",
   "execution_count": 3,
   "id": "e24146a5",
   "metadata": {},
   "outputs": [
    {
     "name": "stdout",
     "output_type": "stream",
     "text": [
      "0                INTEGRIDADE>PSIQUICA>AMEACA OU COACAO\n",
      "1                    INTEGRIDADE>FISICA>TORTURA FISICA\n",
      "2                       INTEGRIDADE>PSIQUICA>EXPOSICAO\n",
      "3          INTEGRIDADE>FISICA>AGRESSAO OU VIAS DE FATO\n",
      "4                       INTEGRIDADE>PSIQUICA>DIFAMACAO\n",
      "                              ...                     \n",
      "1128673          INTEGRIDADE>PSIQUICA>TORTURA PSIQUICA\n",
      "1128674                        INTEGRIDADE>NEGLIGENCIA\n",
      "1128675    INTEGRIDADE>FISICA>AGRESSAO OU VIAS DE FATO\n",
      "1128676         LIBERDADE>SEXUAL>ESTUPRO DE VULNERAVEL\n",
      "1128677       LIBERDADE>SEXUAL>PSIQUICA>ASSEDIO SEXUAL\n",
      "Name: Violações, Length: 1128678, dtype: object\n",
      "Violações\n",
      "INTEGRIDADE>PSIQUICA>AMEACA OU COACAO                                                                                                                         55538\n",
      "INTEGRIDADE>PSIQUICA>TORTURA PSIQUICA                                                                                                                         52095\n",
      "INTEGRIDADE>PSIQUICA>CONSTRANGIMENTO                                                                                                                          40860\n",
      "INTEGRIDADE>FISICA>AGRESSAO OU VIAS DE FATO                                                                                                                   37343\n",
      "LESAO CORPORAL LEVE                                                                                                                                           33493\n",
      "                                                                                                                                                              ...  \n",
      "AMEACA; INJURIA; LESAO CORPORAL LEVE; ESTUPRO; DIFAMACAO                                                                                                          1\n",
      "VIOLENCIA PATRIMONIAL; INJURIA; LESAO CORPORAL LEVE; AMEACA; CALUNIA; DIFAMACAO; DANO EMOCIONAL/DIMINUICAO DA AUTO-ESTIMA; ESTUPRO; TENTATIVA DE HOMICIDIO        1\n",
      "INJURIA; AMEACA; VIOLENCIA PATRIMONIAL; PERSEGUICOES; LESAO CORPORAL LEVE; CARCERE PRIVADO                                                                        1\n",
      "INJURIA; DANO EMOCIONAL/DIMINUICAO DA AUTO-ESTIMA; VIOLENCIA PATRIMONIAL; LESAO CORPORAL LEVE; DIFAMACAO; CALUNIA                                                 1\n",
      "AMEACA; CALUNIA; INJURIA; EXPLORACAOO SEXUAL; ESTUPRO; DIFAMACAO; DANO EMOCIONAL/DIMINUICAO DA AUTO-ESTIMA                                                        1\n",
      "Name: count, Length: 114330, dtype: int64\n"
     ]
    }
   ],
   "source": [
    "print(df[\"Violações\"])\n",
    "contagem = df[\"Violações\"].value_counts()\n",
    "print(contagem)"
   ]
  },
  {
   "cell_type": "code",
   "execution_count": 14,
   "id": "a4b9832d",
   "metadata": {},
   "outputs": [
    {
     "name": "stdout",
     "output_type": "stream",
     "text": [
      "\n",
      "Total de linhas que contêm a palavra 'ESTUPRO': 54359\n"
     ]
    }
   ],
   "source": [
    "# Contabilizando diretamente as linhas que contêm a palavra \"ESTUPRO\"\n",
    "contagem_estupro = df['Violações'].str.contains(\"ESTUPRO\", na=False).sum()\n",
    "\n",
    "print(f\"\\nTotal de linhas que contêm a palavra 'ESTUPRO': {contagem_estupro}\")"
   ]
  },
  {
   "cell_type": "code",
   "execution_count": 17,
   "id": "64133c6c",
   "metadata": {},
   "outputs": [
    {
     "name": "stdout",
     "output_type": "stream",
     "text": [
      "\n",
      "Total de linhas que contêm a palavra 'TRAFICO DE MULHERES': 100\n"
     ]
    }
   ],
   "source": [
    "contagem_trafico_mulher = df['Violações'].str.contains(\"TRAFICO DE MULHERES\", na=False).sum()\n",
    "print(f\"\\nTotal de linhas que contêm a palavra 'TRAFICO DE MULHERES': {contagem_trafico_mulher}\")"
   ]
  },
  {
   "cell_type": "code",
   "execution_count": 5,
   "id": "fd606fe3",
   "metadata": {},
   "outputs": [
    {
     "name": "stdout",
     "output_type": "stream",
     "text": [
      "primeira_palavra\n",
      "INTEGRIDADE                                 353260\n",
      "DANO EMOCIONAL/DIMINUICAO DA AUTO-ESTIMA     97143\n",
      "VIOLENCIA DOMESTICA E FAMILIAR               89734\n",
      "AMEACA                                       88992\n",
      "LESAO CORPORAL LEVE                          79823\n",
      "INJURIA                                      45334\n",
      "VIOLENCIA_FISICA                             40643\n",
      "DIFAMACAO                                    34857\n",
      "VIOLENCIA PATRIMONIAL                        29599\n",
      "CALUNIA                                      27684\n",
      "LIBERDADE                                    22630\n",
      "ESTUPRO                                      20485\n",
      "PERSEGUICOES                                 17368\n",
      "VIOLENCIA_PSICOLOGICA                        16380\n",
      "LESAO CORPORAL GRAVE                         12304\n",
      "CARCERE PRIVADO                              10519\n",
      "OUTRO                                         9360\n",
      "VIOLENCIA MORAL                               8272\n",
      "FEMINICIDIO                                   6368\n",
      "VIOLENCIA INSTITUCIONAL                       5664\n",
      "DIREITOS SOCIAIS                              4471\n",
      "VIOLENCIA FISICA                              4036\n",
      "VIOLENCIA SEXUAL                              3153\n",
      "TENTATIVA DE HOMICIDIO                        3112\n",
      "DIREITOS CIVIS E POLITICOS                    1905\n",
      "EXPLORACAOO SEXUAL                            1651\n",
      "LESAO CORPORAL GRAVISSIMA                     1639\n",
      "IGUALDADE                                     1598\n",
      "OUTROS REGISTROS                              1582\n",
      "SEGURANCA                                     1274\n",
      "VIOLENCIA POLICIAL                            1272\n",
      "ATENTADO VIOLENTO AO PUDOR                    1100\n",
      "VIDA                                           827\n",
      "ASSEDIO SEXUAL (TRABALHO)                      810\n",
      "ASSEDIO MORAL (TRABALHO)                       781\n",
      "HOMICIDIO                                      733\n",
      "VIOLENCIA_VIOLACOES_GERAIS                     614\n",
      "VIOLENCIA VIRTUAL                              495\n",
      "VIOLENCIA_AGRESSAO_HONRA                       459\n",
      "VIOLENCIA OBSTETRICA                           253\n",
      "MEIO AMBIENTE                                  113\n",
      "VIOLENCIA_AGRESSAO_DIREITO_LIBERDADE           110\n",
      "TRAFICO DE MULHERES                             87\n",
      "VIOLENCIA_CRIME_VIDA                            55\n",
      "VIOLENCIA_AGRESSAO_LIBERDADE_CIVIL              36\n",
      "TRABALHO ESCRAVO                                31\n",
      "VIOLENCIA CONTRA DIVERSIDADE RELIGIOSA          25\n",
      "NI                                               1\n",
      "Name: count, dtype: int64\n"
     ]
    }
   ],
   "source": [
    "import re\n",
    "\n",
    "# Função para pegar a primeira palavra antes de \">\", \".\" ou \";\"\n",
    "def get_first_word(text):\n",
    "    if isinstance(text, str):\n",
    "        return re.split(r'[>.;]', text)[0]\n",
    "    return None\n",
    "\n",
    "df['primeira_palavra'] = df['Violações'].apply(get_first_word)\n",
    "\n",
    "primeiras_palavras_distintas = df['primeira_palavra'].dropna().value_counts()\n",
    "print(primeiras_palavras_distintas)"
   ]
  },
  {
   "cell_type": "code",
   "execution_count": 8,
   "id": "8ca6f174",
   "metadata": {},
   "outputs": [
    {
     "name": "stdout",
     "output_type": "stream",
     "text": [
      "seguinte_integridade\n",
      "DIREITOS INDIVIDUAIS>AUTONOMIA DE VONTADE                                                                      4057\n",
      "SEXUAL>FISICA>ESTUPRO                                                                                          3549\n",
      "SEXUAL>PSIQUICA>ASSEDIO SEXUAL                                                                                 2415\n",
      "DIREITOS INDIVIDUAIS>CARCERE PRIVADO                                                                           2302\n",
      "DIREITOS INDIVIDUAIS>LIBERDADE DE IR VIR PERMANECER                                                            1417\n",
      "SEXUAL>FISICA>ABUSO / IMPORTUNACAO SEXUAL FISICA                                                               1398\n",
      "SEXUAL>PSIQUICA>ABUSO / IMPORTUNACAO SEXUAL PSIQUICA                                                           1274\n",
      "SEXUAL>PSIQUICA>ABUSO SEXUAL PSIQUICO                                                                          1255\n",
      "SEXUAL>FISICA>ABUSO SEXUAL FISICO                                                                              1237\n",
      "DIREITOS INDIVIDUAIS>STALKING                                                                                   983\n",
      "SEXUAL>IMPORTUNACAO SEXUAL                                                                                      598\n",
      "SEXUAL>FISICA>EXPLORACAO SEXUAL                                                                                 354\n",
      "DE RELIGIAO OU CRENCA>DE CRENCA                                                                                 329\n",
      "LABORAL>EXPLORACAO DO TRABALHO                                                                                  239\n",
      "EXPRESSAO>LIBERDADE DE CONSCIENCIA E DE PENSAMENTO                                                              186\n",
      "DIREITOS INDIVIDUAIS>CONDICAO ANALOGA A DE ESCRAVO>SUBMETER TRABALHADOR A JORNADA EXAUSTIVA                     164\n",
      "SEXUAL>ESTUPRO DE VULNERAVEL                                                                                    119\n",
      "DE RELIGIAO OU CRENCA>DE CULTO                                                                                  113\n",
      "DIREITOS INDIVIDUAIS>SEQUESTRO                                                                                  107\n",
      "DIREITOS INDIVIDUAIS>CONDICAO ANALOGA A DE ESCRAVO>SUJEITAR TRABALHADOR A CONDICOES DEGRADANTES                  75\n",
      "LABORAL>IMPEDIMENTO DE TRABALHO/OFICIO/PROFISSAO                                                                 60\n",
      "DE RELIGIAO OU CRENCA>NAO CRENCA                                                                                 58\n",
      "DIREITOS INDIVIDUAIS>TRAFICO DE PESSOAS - INTERNACIONAL                                                          52\n",
      "SEXUAL>ESTUPRO DE VULNERAVEL>PEDOFILIA                                                                           50\n",
      "DIREITOS INDIVIDUAIS>CONDICAO ANALOGA A DE ESCRAVO>SUBMETER TRABALHADOR A TRABALHOS FORCADOS                     43\n",
      "DIREITOS INDIVIDUAIS>CONDICAO ANALOGA A DE ESCRAVO>TRANSPORTAR TRABALHADOR PARA FINS DE EXPLORACAO               36\n",
      "LABORAL>PARA FINS DE EXPLORACAO DO TRABALHO>DOMESTICO                                                            20\n",
      "SEXUAL>ESTUPRO VIRTUAL                                                                                           20\n",
      "DIREITOS INDIVIDUAIS>DIREITOS DE REPRODUCAO                                                                      16\n",
      "DIREITOS INDIVIDUAIS>TRAFICO DE PESSOAS - NACIONAL                                                               16\n",
      "DIREITOS INDIVIDUAIS>EXTORSAO MEDIANTE SEQUESTRO                                                                 15\n",
      "DIREITOS INDIVIDUAIS>FALTA DE ACESSIBILIDADE>NA COMUNICACAO                                                      14\n",
      "DIREITOS INDIVIDUAIS>TRAFICO DE MULHERES - INTERNACIONAL                                                         11\n",
      "SEXUAL>VIOLENCIA SEXUAL MEDIANTE FRAUDE                                                                          10\n",
      "DIREITOS INDIVIDUAIS>CONDICAO ANALOGA A DE ESCRAVO>RESTRINGIR A LOCOMOCAO DE TRABALHADOR EM RAZAO DE DIVIDA       9\n",
      "SEXUAL>ESTUPRO CORRETIVO                                                                                          6\n",
      "DIREITOS INDIVIDUAIS>FALTA DE ACESSIBILIDADE>NO ESPACO EDIFICADO                                                  5\n",
      "DIREITOS INDIVIDUAIS>FALTA DE ACESSIBILIDADE>NOS SISTEMAS DE COMUNICACAO OU DE TECNOLOGIA DA INFORMACAO           3\n",
      "DIREITOS INDIVIDUAIS>CONDICAO ANALOGA A DE ESCRAVO>RESTRIGIR A LOCOMOCAO DE TRABALHADOR EM RAZAO DE DIVIDA        3\n",
      "EXPRESSAO>LIBERDADE CIENTIFICA                                                                                    3\n",
      "DIREITOS INDIVIDUAIS>FALTA DE ACESSIBILIDADE>NO ESPACO URBANO                                                     2\n",
      "DIREITOS INDIVIDUAIS>TRAFICO DE CRIANCAS - INTERNACIONAL                                                          2\n",
      "DIREITOS INDIVIDUAIS>TRAFICO DE MULHERES - NACIONAL                                                               2\n",
      "DIREITOS INDIVIDUAIS>TRABALHO INFANTIL                                                                            1\n",
      "DIREITOS INDIVIDUAIS>TRAFICO DE CRIANCAS - NACIONAL                                                               1\n",
      "DIREITOS INDIVIDUAIS>FALTA DE ACESSIBILIDADE>NOS MEIOS DE TRANSPORTE                                              1\n",
      "Name: count, dtype: int64\n"
     ]
    }
   ],
   "source": [
    "# Função para pegar o texto após a primeira palavra\n",
    "def get_following_text(text):\n",
    "    if isinstance(text, str) and text.startswith(\"LIBERDADE\"):\n",
    "        return re.split(r'[>.;]', text, 1)[1] if len(re.split(r'[>.;]', text)) > 1 else None\n",
    "    return None\n",
    "\n",
    "# Aplicando a função para pegar os valores após \"INTEGRIDADE\"\n",
    "df['seguinte_integridade'] = df['Violações'].apply(get_following_text)\n",
    "\n",
    "valores_seguinte_integridade = df['seguinte_integridade'].dropna().value_counts()\n",
    "print(valores_seguinte_integridade)"
   ]
  },
  {
   "cell_type": "code",
   "execution_count": null,
   "id": "4abbc20d",
   "metadata": {},
   "outputs": [],
   "source": []
  }
 ],
 "metadata": {
  "kernelspec": {
   "display_name": "myenv",
   "language": "python",
   "name": "myenv"
  },
  "language_info": {
   "codemirror_mode": {
    "name": "ipython",
    "version": 3
   },
   "file_extension": ".py",
   "mimetype": "text/x-python",
   "name": "python",
   "nbconvert_exporter": "python",
   "pygments_lexer": "ipython3",
   "version": "3.12.3"
  }
 },
 "nbformat": 4,
 "nbformat_minor": 5
}
